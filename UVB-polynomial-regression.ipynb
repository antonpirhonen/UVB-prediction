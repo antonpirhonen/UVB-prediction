{
 "cells": [
  {
   "cell_type": "code",
   "execution_count": 57,
   "metadata": {},
   "outputs": [],
   "source": [
    "# Read the data, import pandas and numpy\n",
    "import pandas as pd\n",
    "import numpy as np\n",
    "df_uvb = pd.read_csv('temperature-UVB.csv')"
   ]
  },
  {
   "cell_type": "code",
   "execution_count": 58,
   "metadata": {},
   "outputs": [],
   "source": [
    "# Save the data into variables\n",
    "X = df_uvb['Temperature'].to_numpy()\n",
    "# Each value in it's own array\n",
    "X = X.reshape(-1, 1)\n",
    "y = df_uvb['UVB'].to_numpy()"
   ]
  },
  {
   "cell_type": "code",
   "execution_count": 59,
   "metadata": {},
   "outputs": [
    {
     "name": "stdout",
     "output_type": "stream",
     "text": [
      "train size:  191\n",
      "validation size:  64\n",
      "test size 110\n"
     ]
    }
   ],
   "source": [
    "# Split the data into training and testing sets\n",
    "from sklearn.model_selection import train_test_split\n",
    "X_train_data, X_end_test, y_train_data, y_end_test = train_test_split(X, y, test_size=0.3)\n",
    "# default test set size = 0.25 * data\n",
    "X_train, X_test, y_train, y_test = train_test_split(X_train_data, y_train_data)\n",
    "# Read data into dataframes\n",
    "X_train_df, X_test_df = pd.DataFrame(X_train), pd.DataFrame(X_test)\n",
    "print(\"train size: \", X_train.size)\n",
    "print(\"validation size: \", X_test.size)\n",
    "print(\"test size\", X_end_test.size)"
   ]
  },
  {
   "cell_type": "code",
   "execution_count": 145,
   "metadata": {},
   "outputs": [],
   "source": [
    "# Create the polynomial model and features\n",
    "from sklearn.preprocessing import PolynomialFeatures\n",
    "degree = 4\n",
    "polynomial_model = PolynomialFeatures(degree=degree)\n",
    "X_train_poly, X_test_poly = polynomial_model.fit_transform(X_train_df) , polynomial_model.fit_transform(X_test_df)"
   ]
  },
  {
   "cell_type": "code",
   "execution_count": 146,
   "metadata": {},
   "outputs": [
    {
     "name": "stdout",
     "output_type": "stream",
     "text": [
      "Polynomial coefficients:  [ 0.00000000e+00  2.06492782e-02  5.34621858e-03  2.60296193e-04\n",
      " -1.05606696e-05]\n"
     ]
    }
   ],
   "source": [
    "# Use polynomial model with linear regression\n",
    "from sklearn.linear_model import LinearRegression\n",
    "model = LinearRegression()\n",
    "# Fitting the model\n",
    "model.fit(X_train_poly, y_train)\n",
    "coefficient = model.coef_\n",
    "intercept = model.intercept_\n",
    "print(\"Polynomial coefficients: \", model.coef_)"
   ]
  },
  {
   "cell_type": "code",
   "execution_count": 147,
   "metadata": {},
   "outputs": [
    {
     "data": {
      "image/png": "[encoded data removed]",
      "text/plain": [
       "<Figure size 432x288 with 1 Axes>"
      ]
     },
     "metadata": {
      "needs_background": "light"
     },
     "output_type": "display_data"
    }
   ],
   "source": [
    "# Plot the regression\n",
    "import matplotlib.pyplot as plt\n",
    "\n",
    "x_axis = np.arange(-15, 32, 0.1)\n",
    "def response():\n",
    "    sum = intercept\n",
    "    i = 1\n",
    "    while i <= degree:\n",
    "        sum += coefficient[i] * x_axis**i\n",
    "        i += 1\n",
    "    return sum\n",
    "\n",
    "plt.scatter(X, y, color=\"b\")\n",
    "plt.plot(x_axis, response(), color=\"r\")\n",
    "#plt.savefig('degree-' + str(degree) + '-polynomial')\n",
    "plt.show()\n"
   ]
  },
  {
   "cell_type": "code",
   "execution_count": 148,
   "metadata": {},
   "outputs": [
    {
     "name": "stdout",
     "output_type": "stream",
     "text": [
      "Average mean squared error in training set 0.5343412778468495\n",
      "R2-score in training set:  0.7642886040810347\n"
     ]
    }
   ],
   "source": [
    "# Print the error in the training data\n",
    "from sklearn.metrics import mean_squared_error, r2_score\n",
    "pred_values = model.predict(X_train_poly)\n",
    "msq = mean_squared_error(pred_values, y_train)\n",
    "print(\"Average mean squared error in training set\", msq)\n",
    "print(\"R2-score in training set: \", r2_score(y_train, pred_values))"
   ]
  },
  {
   "cell_type": "code",
   "execution_count": 149,
   "metadata": {},
   "outputs": [
    {
     "name": "stdout",
     "output_type": "stream",
     "text": [
      "Average mean squared error in validation set 0.5979425610728967\n",
      "R2-score in validation set:  0.7165256844855247\n"
     ]
    }
   ],
   "source": [
    "# Print the validation error\n",
    "pred_values = model.predict(X_test_poly)\n",
    "msq = mean_squared_error(y_test, pred_values)\n",
    "print(\"Average mean squared error in validation set\", msq)\n",
    "print(\"R2-score in validation set: \", r2_score(y_test, pred_values))"
   ]
  },
  {
   "cell_type": "code",
   "execution_count": 150,
   "metadata": {},
   "outputs": [
    {
     "name": "stdout",
     "output_type": "stream",
     "text": [
      "Average mean squared error in test set 0.6073723635003644\n",
      "R2-score in test set:  0.7338443977296316\n"
     ]
    }
   ],
   "source": [
    "# Testing the model with a different dataset\n",
    "X_end_poly = polynomial_model.fit_transform(X_end_test)\n",
    "pred_values = model.predict(X_end_poly)\n",
    "msq = mean_squared_error(pred_values, y_end_test)\n",
    "print(\"Average mean squared error in test set\", msq)\n",
    "print(\"R2-score in test set: \", r2_score(y_end_test, pred_values))"
   ]
  },
  {
   "cell_type": "code",
   "execution_count": null,
   "metadata": {},
   "outputs": [],
   "source": []
  },
  {
   "cell_type": "code",
   "execution_count": null,
   "metadata": {},
   "outputs": [],
   "source": []
  }
 ],
 "metadata": {
  "kernelspec": {
   "display_name": "Python 3",
   "language": "python",
   "name": "python3"
  },
  "language_info": {
   "codemirror_mode": {
    "name": "ipython",
    "version": 3
   },
   "file_extension": ".py",
   "mimetype": "text/x-python",
   "name": "python",
   "nbconvert_exporter": "python",
   "pygments_lexer": "ipython3",
   "version": "3.8.6"
  }
 },
 "nbformat": 4,
 "nbformat_minor": 4
}
